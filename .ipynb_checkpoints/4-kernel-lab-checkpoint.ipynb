{
 "cells": [
  {
   "cell_type": "markdown",
   "metadata": {},
   "source": [
    "# Kernel Code Along"
   ]
  },
  {
   "cell_type": "markdown",
   "metadata": {},
   "source": [
    "### Introduction"
   ]
  },
  {
   "cell_type": "markdown",
   "metadata": {},
   "source": [
    "In this lesson, we'll continue to explore how we can use kernels to produce an activation map.  Let's get started."
   ]
  },
  {
   "cell_type": "markdown",
   "metadata": {},
   "source": [
    "### Initializing our Kernels"
   ]
  },
  {
   "cell_type": "markdown",
   "metadata": {},
   "source": [
    "We'll begin by loading our images."
   ]
  },
  {
   "cell_type": "code",
   "execution_count": 11,
   "metadata": {},
   "outputs": [],
   "source": [
    "from sklearn.datasets import fetch_openml\n",
    "\n",
    "X, y = fetch_openml('mnist_784', version=1, return_X_y=True)"
   ]
  },
  {
   "cell_type": "markdown",
   "metadata": {},
   "source": [
    "And this time, let's select the second image and take a look."
   ]
  },
  {
   "cell_type": "code",
   "execution_count": 12,
   "metadata": {},
   "outputs": [],
   "source": [
    "second_image = X[1].reshape(28, 28)"
   ]
  },
  {
   "cell_type": "code",
   "execution_count": 13,
   "metadata": {},
   "outputs": [
    {
     "data": {
      "text/plain": [
       "<matplotlib.image.AxesImage at 0x111c51fd0>"
      ]
     },
     "execution_count": 13,
     "metadata": {},
     "output_type": "execute_result"
    },
    {
     "data": {
      "image/png": "[encoded data removed]",
      "text/plain": [
       "<Figure size 432x288 with 1 Axes>"
      ]
     },
     "metadata": {
      "needs_background": "light"
     },
     "output_type": "display_data"
    }
   ],
   "source": [
    "from matplotlib.pyplot import imshow\n",
    "imshow(second_image)"
   ]
  },
  {
   "cell_type": "markdown",
   "metadata": {},
   "source": [
    "As we know the image is derived from pixels where the smaller the number the darker the component of the image."
   ]
  },
  {
   "cell_type": "code",
   "execution_count": 15,
   "metadata": {},
   "outputs": [
    {
     "data": {
      "text/html": [
       "<style  type=\"text/css\" >\n",
       "    #T_059a6626_d265_11ea_9427_acde48001122row0_col0 {\n",
       "            font-size:  6pt;\n",
       "            background-color:  #ffffff;\n",
       "            color:  #000000;\n",
       "        }    #T_059a6626_d265_11ea_9427_acde48001122row0_col1 {\n",
       "            font-size:  6pt;\n",
       "            background-color:  #ffffff;\n",
       "            color:  #000000;\n",
       "        }    #T_059a6626_d265_11ea_9427_acde48001122row0_col2 {\n",
       "            font-size:  6pt;\n",
       "            background-color:  #ffffff;\n",
       "            color:  #000000;\n",
       "        }    #T_059a6626_d265_11ea_9427_acde48001122row0_col3 {\n",
       "            font-size:  6pt;\n",
       "            background-color:  #ffffff;\n",
       "            color:  #000000;\n",
       "        }    #T_059a6626_d265_11ea_9427_acde48001122row0_col4 {\n",
       "            font-size:  6pt;\n",
       "            background-color:  #ffffff;\n",
       "            color:  #000000;\n",
       "        }    #T_059a6626_d265_11ea_9427_acde48001122row0_col5 {\n",
       "            font-size:  6pt;\n",
       "            background-color:  #ffffff;\n",
       "            color:  #000000;\n",
       "        }    #T_059a6626_d265_11ea_9427_acde48001122row0_col6 {\n",
       "            font-size:  6pt;\n",
       "            background-color:  #ffffff;\n",
       "            color:  #000000;\n",
       "        }    #T_059a6626_d265_11ea_9427_acde48001122row0_col7 {\n",
       "            font-size:  6pt;\n",
       "            background-color:  #ffffff;\n",
       "            color:  #000000;\n",
       "        }    #T_059a6626_d265_11ea_9427_acde48001122row0_col8 {\n",
       "            font-size:  6pt;\n",
       "            background-color:  #ffffff;\n",
       "            color:  #000000;\n",
       "        }    #T_059a6626_d265_11ea_9427_acde48001122row0_col9 {\n",
       "            font-size:  6pt;\n",
       "            background-color:  #ffffff;\n",
       "            color:  #000000;\n",
       "        }    #T_059a6626_d265_11ea_9427_acde48001122row0_col10 {\n",
       "            font-size:  6pt;\n",
       "            background-color:  #ffffff;\n",
       "            color:  #000000;\n",
       "        }    #T_059a6626_d265_11ea_9427_acde48001122row0_col11 {\n",
       "            font-size:  6pt;\n",
       "            background-color:  #ffffff;\n",
       "            color:  #000000;\n",
       "        }    #T_059a6626_d265_11ea_9427_acde48001122row0_col12 {\n",
       "            font-size:  6pt;\n",
       "            background-color:  #ffffff;\n",
       "            color:  #000000;\n",
       "        }    #T_059a6626_d265_11ea_9427_acde48001122row0_col13 {\n",
       "            font-size:  6pt;\n",
       "            background-color:  #ffffff;\n",
       "            color:  #000000;\n",
       "        }    #T_059a6626_d265_11ea_9427_acde48001122row0_col14 {\n",
       "            font-size:  6pt;\n",
       "            background-color:  #ffffff;\n",
       "            color:  #000000;\n",
       "        }    #T_059a6626_d265_11ea_9427_acde48001122row0_col15 {\n",
       "            font-size:  6pt;\n",
       "            background-color:  #ffffff;\n",
       "            color:  #000000;\n",
       "        }    #T_059a6626_d265_11ea_9427_acde48001122row1_col0 {\n",
       "            font-size:  6pt;\n",
       "            background-color:  #ffffff;\n",
       "            color:  #000000;\n",
       "        }    #T_059a6626_d265_11ea_9427_acde48001122row1_col1 {\n",
       "            font-size:  6pt;\n",
       "            background-color:  #ffffff;\n",
       "            color:  #000000;\n",
       "        }    #T_059a6626_d265_11ea_9427_acde48001122row1_col2 {\n",
       "            font-size:  6pt;\n",
       "            background-color:  #ffffff;\n",
       "            color:  #000000;\n",
       "        }    #T_059a6626_d265_11ea_9427_acde48001122row1_col3 {\n",
       "            font-size:  6pt;\n",
       "            background-color:  #ffffff;\n",
       "            color:  #000000;\n",
       "        }    #T_059a6626_d265_11ea_9427_acde48001122row1_col4 {\n",
       "            font-size:  6pt;\n",
       "            background-color:  #ffffff;\n",
       "            color:  #000000;\n",
       "        }    #T_059a6626_d265_11ea_9427_acde48001122row1_col5 {\n",
       "            font-size:  6pt;\n",
       "            background-color:  #ffffff;\n",
       "            color:  #000000;\n",
       "        }    #T_059a6626_d265_11ea_9427_acde48001122row1_col6 {\n",
       "            font-size:  6pt;\n",
       "            background-color:  #ffffff;\n",
       "            color:  #000000;\n",
       "        }    #T_059a6626_d265_11ea_9427_acde48001122row1_col7 {\n",
       "            font-size:  6pt;\n",
       "            background-color:  #ffffff;\n",
       "            color:  #000000;\n",
       "        }    #T_059a6626_d265_11ea_9427_acde48001122row1_col8 {\n",
       "            font-size:  6pt;\n",
       "            background-color:  #ffffff;\n",
       "            color:  #000000;\n",
       "        }    #T_059a6626_d265_11ea_9427_acde48001122row1_col9 {\n",
       "            font-size:  6pt;\n",
       "            background-color:  #ffffff;\n",
       "            color:  #000000;\n",
       "        }    #T_059a6626_d265_11ea_9427_acde48001122row1_col10 {\n",
       "            font-size:  6pt;\n",
       "            background-color:  #ffffff;\n",
       "            color:  #000000;\n",
       "        }    #T_059a6626_d265_11ea_9427_acde48001122row1_col11 {\n",
       "            font-size:  6pt;\n",
       "            background-color:  #ffffff;\n",
       "            color:  #000000;\n",
       "        }    #T_059a6626_d265_11ea_9427_acde48001122row1_col12 {\n",
       "            font-size:  6pt;\n",
       "            background-color:  #ffffff;\n",
       "            color:  #000000;\n",
       "        }    #T_059a6626_d265_11ea_9427_acde48001122row1_col13 {\n",
       "            font-size:  6pt;\n",
       "            background-color:  #ffffff;\n",
       "            color:  #000000;\n",
       "        }    #T_059a6626_d265_11ea_9427_acde48001122row1_col14 {\n",
       "            font-size:  6pt;\n",
       "            background-color:  #ffffff;\n",
       "            color:  #000000;\n",
       "        }    #T_059a6626_d265_11ea_9427_acde48001122row1_col15 {\n",
       "            font-size:  6pt;\n",
       "            background-color:  #ffffff;\n",
       "            color:  #000000;\n",
       "        }    #T_059a6626_d265_11ea_9427_acde48001122row2_col0 {\n",
       "            font-size:  6pt;\n",
       "            background-color:  #ffffff;\n",
       "            color:  #000000;\n",
       "        }    #T_059a6626_d265_11ea_9427_acde48001122row2_col1 {\n",
       "            font-size:  6pt;\n",
       "            background-color:  #ffffff;\n",
       "            color:  #000000;\n",
       "        }    #T_059a6626_d265_11ea_9427_acde48001122row2_col2 {\n",
       "            font-size:  6pt;\n",
       "            background-color:  #ffffff;\n",
       "            color:  #000000;\n",
       "        }    #T_059a6626_d265_11ea_9427_acde48001122row2_col3 {\n",
       "            font-size:  6pt;\n",
       "            background-color:  #ffffff;\n",
       "            color:  #000000;\n",
       "        }    #T_059a6626_d265_11ea_9427_acde48001122row2_col4 {\n",
       "            font-size:  6pt;\n",
       "            background-color:  #ffffff;\n",
       "            color:  #000000;\n",
       "        }    #T_059a6626_d265_11ea_9427_acde48001122row2_col5 {\n",
       "            font-size:  6pt;\n",
       "            background-color:  #ffffff;\n",
       "            color:  #000000;\n",
       "        }    #T_059a6626_d265_11ea_9427_acde48001122row2_col6 {\n",
       "            font-size:  6pt;\n",
       "            background-color:  #ffffff;\n",
       "            color:  #000000;\n",
       "        }    #T_059a6626_d265_11ea_9427_acde48001122row2_col7 {\n",
       "            font-size:  6pt;\n",
       "            background-color:  #ffffff;\n",
       "            color:  #000000;\n",
       "        }    #T_059a6626_d265_11ea_9427_acde48001122row2_col8 {\n",
       "            font-size:  6pt;\n",
       "            background-color:  #ffffff;\n",
       "            color:  #000000;\n",
       "        }    #T_059a6626_d265_11ea_9427_acde48001122row2_col9 {\n",
       "            font-size:  6pt;\n",
       "            background-color:  #ffffff;\n",
       "            color:  #000000;\n",
       "        }    #T_059a6626_d265_11ea_9427_acde48001122row2_col10 {\n",
       "            font-size:  6pt;\n",
       "            background-color:  #ffffff;\n",
       "            color:  #000000;\n",
       "        }    #T_059a6626_d265_11ea_9427_acde48001122row2_col11 {\n",
       "            font-size:  6pt;\n",
       "            background-color:  #ffffff;\n",
       "            color:  #000000;\n",
       "        }    #T_059a6626_d265_11ea_9427_acde48001122row2_col12 {\n",
       "            font-size:  6pt;\n",
       "            background-color:  #ffffff;\n",
       "            color:  #000000;\n",
       "        }    #T_059a6626_d265_11ea_9427_acde48001122row2_col13 {\n",
       "            font-size:  6pt;\n",
       "            background-color:  #ffffff;\n",
       "            color:  #000000;\n",
       "        }    #T_059a6626_d265_11ea_9427_acde48001122row2_col14 {\n",
       "            font-size:  6pt;\n",
       "            background-color:  #ffffff;\n",
       "            color:  #000000;\n",
       "        }    #T_059a6626_d265_11ea_9427_acde48001122row2_col15 {\n",
       "            font-size:  6pt;\n",
       "            background-color:  #ffffff;\n",
       "            color:  #000000;\n",
       "        }    #T_059a6626_d265_11ea_9427_acde48001122row3_col0 {\n",
       "            font-size:  6pt;\n",
       "            background-color:  #ffffff;\n",
       "            color:  #000000;\n",
       "        }    #T_059a6626_d265_11ea_9427_acde48001122row3_col1 {\n",
       "            font-size:  6pt;\n",
       "            background-color:  #ffffff;\n",
       "            color:  #000000;\n",
       "        }    #T_059a6626_d265_11ea_9427_acde48001122row3_col2 {\n",
       "            font-size:  6pt;\n",
       "            background-color:  #ffffff;\n",
       "            color:  #000000;\n",
       "        }    #T_059a6626_d265_11ea_9427_acde48001122row3_col3 {\n",
       "            font-size:  6pt;\n",
       "            background-color:  #ffffff;\n",
       "            color:  #000000;\n",
       "        }    #T_059a6626_d265_11ea_9427_acde48001122row3_col4 {\n",
       "            font-size:  6pt;\n",
       "            background-color:  #ffffff;\n",
       "            color:  #000000;\n",
       "        }    #T_059a6626_d265_11ea_9427_acde48001122row3_col5 {\n",
       "            font-size:  6pt;\n",
       "            background-color:  #e2e2e2;\n",
       "            color:  #000000;\n",
       "        }    #T_059a6626_d265_11ea_9427_acde48001122row3_col6 {\n",
       "            font-size:  6pt;\n",
       "            background-color:  #717171;\n",
       "            color:  #000000;\n",
       "        }    #T_059a6626_d265_11ea_9427_acde48001122row3_col7 {\n",
       "            font-size:  6pt;\n",
       "            background-color:  #000000;\n",
       "            color:  #f1f1f1;\n",
       "        }    #T_059a6626_d265_11ea_9427_acde48001122row3_col8 {\n",
       "            font-size:  6pt;\n",
       "            background-color:  #717171;\n",
       "            color:  #000000;\n",
       "        }    #T_059a6626_d265_11ea_9427_acde48001122row3_col9 {\n",
       "            font-size:  6pt;\n",
       "            background-color:  #e3e3e3;\n",
       "            color:  #000000;\n",
       "        }    #T_059a6626_d265_11ea_9427_acde48001122row3_col10 {\n",
       "            font-size:  6pt;\n",
       "            background-color:  #ffffff;\n",
       "            color:  #000000;\n",
       "        }    #T_059a6626_d265_11ea_9427_acde48001122row3_col11 {\n",
       "            font-size:  6pt;\n",
       "            background-color:  #ffffff;\n",
       "            color:  #000000;\n",
       "        }    #T_059a6626_d265_11ea_9427_acde48001122row3_col12 {\n",
       "            font-size:  6pt;\n",
       "            background-color:  #ffffff;\n",
       "            color:  #000000;\n",
       "        }    #T_059a6626_d265_11ea_9427_acde48001122row3_col13 {\n",
       "            font-size:  6pt;\n",
       "            background-color:  #ffffff;\n",
       "            color:  #000000;\n",
       "        }    #T_059a6626_d265_11ea_9427_acde48001122row3_col14 {\n",
       "            font-size:  6pt;\n",
       "            background-color:  #ffffff;\n",
       "            color:  #000000;\n",
       "        }    #T_059a6626_d265_11ea_9427_acde48001122row3_col15 {\n",
       "            font-size:  6pt;\n",
       "            background-color:  #ffffff;\n",
       "            color:  #000000;\n",
       "        }    #T_059a6626_d265_11ea_9427_acde48001122row4_col0 {\n",
       "            font-size:  6pt;\n",
       "            background-color:  #ffffff;\n",
       "            color:  #000000;\n",
       "        }    #T_059a6626_d265_11ea_9427_acde48001122row4_col1 {\n",
       "            font-size:  6pt;\n",
       "            background-color:  #ffffff;\n",
       "            color:  #000000;\n",
       "        }    #T_059a6626_d265_11ea_9427_acde48001122row4_col2 {\n",
       "            font-size:  6pt;\n",
       "            background-color:  #ffffff;\n",
       "            color:  #000000;\n",
       "        }    #T_059a6626_d265_11ea_9427_acde48001122row4_col3 {\n",
       "            font-size:  6pt;\n",
       "            background-color:  #ffffff;\n",
       "            color:  #000000;\n",
       "        }    #T_059a6626_d265_11ea_9427_acde48001122row4_col4 {\n",
       "            font-size:  6pt;\n",
       "            background-color:  #e4e4e4;\n",
       "            color:  #000000;\n",
       "        }    #T_059a6626_d265_11ea_9427_acde48001122row4_col5 {\n",
       "            font-size:  6pt;\n",
       "            background-color:  #111111;\n",
       "            color:  #f1f1f1;\n",
       "        }    #T_059a6626_d265_11ea_9427_acde48001122row4_col6 {\n",
       "            font-size:  6pt;\n",
       "            background-color:  #000000;\n",
       "            color:  #f1f1f1;\n",
       "        }    #T_059a6626_d265_11ea_9427_acde48001122row4_col7 {\n",
       "            font-size:  6pt;\n",
       "            background-color:  #010101;\n",
       "            color:  #f1f1f1;\n",
       "        }    #T_059a6626_d265_11ea_9427_acde48001122row4_col8 {\n",
       "            font-size:  6pt;\n",
       "            background-color:  #000000;\n",
       "            color:  #f1f1f1;\n",
       "        }    #T_059a6626_d265_11ea_9427_acde48001122row4_col9 {\n",
       "            font-size:  6pt;\n",
       "            background-color:  #111111;\n",
       "            color:  #f1f1f1;\n",
       "        }    #T_059a6626_d265_11ea_9427_acde48001122row4_col10 {\n",
       "            font-size:  6pt;\n",
       "            background-color:  #ffffff;\n",
       "            color:  #000000;\n",
       "        }    #T_059a6626_d265_11ea_9427_acde48001122row4_col11 {\n",
       "            font-size:  6pt;\n",
       "            background-color:  #ffffff;\n",
       "            color:  #000000;\n",
       "        }    #T_059a6626_d265_11ea_9427_acde48001122row4_col12 {\n",
       "            font-size:  6pt;\n",
       "            background-color:  #ffffff;\n",
       "            color:  #000000;\n",
       "        }    #T_059a6626_d265_11ea_9427_acde48001122row4_col13 {\n",
       "            font-size:  6pt;\n",
       "            background-color:  #ffffff;\n",
       "            color:  #000000;\n",
       "        }    #T_059a6626_d265_11ea_9427_acde48001122row4_col14 {\n",
       "            font-size:  6pt;\n",
       "            background-color:  #ffffff;\n",
       "            color:  #000000;\n",
       "        }    #T_059a6626_d265_11ea_9427_acde48001122row4_col15 {\n",
       "            font-size:  6pt;\n",
       "            background-color:  #ffffff;\n",
       "            color:  #000000;\n",
       "        }    #T_059a6626_d265_11ea_9427_acde48001122row5_col0 {\n",
       "            font-size:  6pt;\n",
       "            background-color:  #ffffff;\n",
       "            color:  #000000;\n",
       "        }    #T_059a6626_d265_11ea_9427_acde48001122row5_col1 {\n",
       "            font-size:  6pt;\n",
       "            background-color:  #ffffff;\n",
       "            color:  #000000;\n",
       "        }    #T_059a6626_d265_11ea_9427_acde48001122row5_col2 {\n",
       "            font-size:  6pt;\n",
       "            background-color:  #ffffff;\n",
       "            color:  #000000;\n",
       "        }    #T_059a6626_d265_11ea_9427_acde48001122row5_col3 {\n",
       "            font-size:  6pt;\n",
       "            background-color:  #dbdbdb;\n",
       "            color:  #000000;\n",
       "        }    #T_059a6626_d265_11ea_9427_acde48001122row5_col4 {\n",
       "            font-size:  6pt;\n",
       "            background-color:  #1d1d1d;\n",
       "            color:  #f1f1f1;\n",
       "        }    #T_059a6626_d265_11ea_9427_acde48001122row5_col5 {\n",
       "            font-size:  6pt;\n",
       "            background-color:  #000000;\n",
       "            color:  #f1f1f1;\n",
       "        }    #T_059a6626_d265_11ea_9427_acde48001122row5_col6 {\n",
       "            font-size:  6pt;\n",
       "            background-color:  #000000;\n",
       "            color:  #f1f1f1;\n",
       "        }    #T_059a6626_d265_11ea_9427_acde48001122row5_col7 {\n",
       "            font-size:  6pt;\n",
       "            background-color:  #101010;\n",
       "            color:  #f1f1f1;\n",
       "        }    #T_059a6626_d265_11ea_9427_acde48001122row5_col8 {\n",
       "            font-size:  6pt;\n",
       "            background-color:  #161616;\n",
       "            color:  #f1f1f1;\n",
       "        }    #T_059a6626_d265_11ea_9427_acde48001122row5_col9 {\n",
       "            font-size:  6pt;\n",
       "            background-color:  #000000;\n",
       "            color:  #f1f1f1;\n",
       "        }    #T_059a6626_d265_11ea_9427_acde48001122row5_col10 {\n",
       "            font-size:  6pt;\n",
       "            background-color:  #dedede;\n",
       "            color:  #000000;\n",
       "        }    #T_059a6626_d265_11ea_9427_acde48001122row5_col11 {\n",
       "            font-size:  6pt;\n",
       "            background-color:  #f9f9f9;\n",
       "            color:  #000000;\n",
       "        }    #T_059a6626_d265_11ea_9427_acde48001122row5_col12 {\n",
       "            font-size:  6pt;\n",
       "            background-color:  #ffffff;\n",
       "            color:  #000000;\n",
       "        }    #T_059a6626_d265_11ea_9427_acde48001122row5_col13 {\n",
       "            font-size:  6pt;\n",
       "            background-color:  #ffffff;\n",
       "            color:  #000000;\n",
       "        }    #T_059a6626_d265_11ea_9427_acde48001122row5_col14 {\n",
       "            font-size:  6pt;\n",
       "            background-color:  #ffffff;\n",
       "            color:  #000000;\n",
       "        }    #T_059a6626_d265_11ea_9427_acde48001122row5_col15 {\n",
       "            font-size:  6pt;\n",
       "            background-color:  #ffffff;\n",
       "            color:  #000000;\n",
       "        }    #T_059a6626_d265_11ea_9427_acde48001122row6_col0 {\n",
       "            font-size:  6pt;\n",
       "            background-color:  #ffffff;\n",
       "            color:  #000000;\n",
       "        }    #T_059a6626_d265_11ea_9427_acde48001122row6_col1 {\n",
       "            font-size:  6pt;\n",
       "            background-color:  #000000;\n",
       "            color:  #f1f1f1;\n",
       "        }    #T_059a6626_d265_11ea_9427_acde48001122row6_col2 {\n",
       "            font-size:  6pt;\n",
       "            background-color:  #000000;\n",
       "            color:  #f1f1f1;\n",
       "        }    #T_059a6626_d265_11ea_9427_acde48001122row6_col3 {\n",
       "            font-size:  6pt;\n",
       "            background-color:  #000000;\n",
       "            color:  #f1f1f1;\n",
       "        }    #T_059a6626_d265_11ea_9427_acde48001122row6_col4 {\n",
       "            font-size:  6pt;\n",
       "            background-color:  #000000;\n",
       "            color:  #f1f1f1;\n",
       "        }    #T_059a6626_d265_11ea_9427_acde48001122row6_col5 {\n",
       "            font-size:  6pt;\n",
       "            background-color:  #000000;\n",
       "            color:  #f1f1f1;\n",
       "        }    #T_059a6626_d265_11ea_9427_acde48001122row6_col6 {\n",
       "            font-size:  6pt;\n",
       "            background-color:  #000000;\n",
       "            color:  #f1f1f1;\n",
       "        }    #T_059a6626_d265_11ea_9427_acde48001122row6_col7 {\n",
       "            font-size:  6pt;\n",
       "            background-color:  #404040;\n",
       "            color:  #f1f1f1;\n",
       "        }    #T_059a6626_d265_11ea_9427_acde48001122row6_col8 {\n",
       "            font-size:  6pt;\n",
       "            background-color:  #c6c6c6;\n",
       "            color:  #000000;\n",
       "        }    #T_059a6626_d265_11ea_9427_acde48001122row6_col9 {\n",
       "            font-size:  6pt;\n",
       "            background-color:  #000000;\n",
       "            color:  #f1f1f1;\n",
       "        }    #T_059a6626_d265_11ea_9427_acde48001122row6_col10 {\n",
       "            font-size:  6pt;\n",
       "            background-color:  #000000;\n",
       "            color:  #f1f1f1;\n",
       "        }    #T_059a6626_d265_11ea_9427_acde48001122row6_col11 {\n",
       "            font-size:  6pt;\n",
       "            background-color:  #000000;\n",
       "            color:  #f1f1f1;\n",
       "        }    #T_059a6626_d265_11ea_9427_acde48001122row6_col12 {\n",
       "            font-size:  6pt;\n",
       "            background-color:  #ffffff;\n",
       "            color:  #000000;\n",
       "        }    #T_059a6626_d265_11ea_9427_acde48001122row6_col13 {\n",
       "            font-size:  6pt;\n",
       "            background-color:  #ffffff;\n",
       "            color:  #000000;\n",
       "        }    #T_059a6626_d265_11ea_9427_acde48001122row6_col14 {\n",
       "            font-size:  6pt;\n",
       "            background-color:  #ffffff;\n",
       "            color:  #000000;\n",
       "        }    #T_059a6626_d265_11ea_9427_acde48001122row6_col15 {\n",
       "            font-size:  6pt;\n",
       "            background-color:  #ffffff;\n",
       "            color:  #000000;\n",
       "        }</style><table id=\"T_059a6626_d265_11ea_9427_acde48001122\" ><thead>    <tr>        <th class=\"blank level0\" ></th>        <th class=\"col_heading level0 col0\" >10</th>        <th class=\"col_heading level0 col1\" >11</th>        <th class=\"col_heading level0 col2\" >12</th>        <th class=\"col_heading level0 col3\" >13</th>        <th class=\"col_heading level0 col4\" >14</th>        <th class=\"col_heading level0 col5\" >15</th>        <th class=\"col_heading level0 col6\" >16</th>        <th class=\"col_heading level0 col7\" >17</th>        <th class=\"col_heading level0 col8\" >18</th>        <th class=\"col_heading level0 col9\" >19</th>        <th class=\"col_heading level0 col10\" >20</th>        <th class=\"col_heading level0 col11\" >21</th>        <th class=\"col_heading level0 col12\" >22</th>        <th class=\"col_heading level0 col13\" >23</th>        <th class=\"col_heading level0 col14\" >24</th>        <th class=\"col_heading level0 col15\" >25</th>    </tr></thead><tbody>\n",
       "                <tr>\n",
       "                        <th id=\"T_059a6626_d265_11ea_9427_acde48001122level0_row0\" class=\"row_heading level0 row0\" >1</th>\n",
       "                        <td id=\"T_059a6626_d265_11ea_9427_acde48001122row0_col0\" class=\"data row0 col0\" >0</td>\n",
       "                        <td id=\"T_059a6626_d265_11ea_9427_acde48001122row0_col1\" class=\"data row0 col1\" >0</td>\n",
       "                        <td id=\"T_059a6626_d265_11ea_9427_acde48001122row0_col2\" class=\"data row0 col2\" >0</td>\n",
       "                        <td id=\"T_059a6626_d265_11ea_9427_acde48001122row0_col3\" class=\"data row0 col3\" >0</td>\n",
       "                        <td id=\"T_059a6626_d265_11ea_9427_acde48001122row0_col4\" class=\"data row0 col4\" >0</td>\n",
       "                        <td id=\"T_059a6626_d265_11ea_9427_acde48001122row0_col5\" class=\"data row0 col5\" >0</td>\n",
       "                        <td id=\"T_059a6626_d265_11ea_9427_acde48001122row0_col6\" class=\"data row0 col6\" >0</td>\n",
       "                        <td id=\"T_059a6626_d265_11ea_9427_acde48001122row0_col7\" class=\"data row0 col7\" >0</td>\n",
       "                        <td id=\"T_059a6626_d265_11ea_9427_acde48001122row0_col8\" class=\"data row0 col8\" >0</td>\n",
       "                        <td id=\"T_059a6626_d265_11ea_9427_acde48001122row0_col9\" class=\"data row0 col9\" >0</td>\n",
       "                        <td id=\"T_059a6626_d265_11ea_9427_acde48001122row0_col10\" class=\"data row0 col10\" >0</td>\n",
       "                        <td id=\"T_059a6626_d265_11ea_9427_acde48001122row0_col11\" class=\"data row0 col11\" >0</td>\n",
       "                        <td id=\"T_059a6626_d265_11ea_9427_acde48001122row0_col12\" class=\"data row0 col12\" >0</td>\n",
       "                        <td id=\"T_059a6626_d265_11ea_9427_acde48001122row0_col13\" class=\"data row0 col13\" >0</td>\n",
       "                        <td id=\"T_059a6626_d265_11ea_9427_acde48001122row0_col14\" class=\"data row0 col14\" >0</td>\n",
       "                        <td id=\"T_059a6626_d265_11ea_9427_acde48001122row0_col15\" class=\"data row0 col15\" >0</td>\n",
       "            </tr>\n",
       "            <tr>\n",
       "                        <th id=\"T_059a6626_d265_11ea_9427_acde48001122level0_row1\" class=\"row_heading level0 row1\" >2</th>\n",
       "                        <td id=\"T_059a6626_d265_11ea_9427_acde48001122row1_col0\" class=\"data row1 col0\" >0</td>\n",
       "                        <td id=\"T_059a6626_d265_11ea_9427_acde48001122row1_col1\" class=\"data row1 col1\" >0</td>\n",
       "                        <td id=\"T_059a6626_d265_11ea_9427_acde48001122row1_col2\" class=\"data row1 col2\" >0</td>\n",
       "                        <td id=\"T_059a6626_d265_11ea_9427_acde48001122row1_col3\" class=\"data row1 col3\" >0</td>\n",
       "                        <td id=\"T_059a6626_d265_11ea_9427_acde48001122row1_col4\" class=\"data row1 col4\" >0</td>\n",
       "                        <td id=\"T_059a6626_d265_11ea_9427_acde48001122row1_col5\" class=\"data row1 col5\" >0</td>\n",
       "                        <td id=\"T_059a6626_d265_11ea_9427_acde48001122row1_col6\" class=\"data row1 col6\" >0</td>\n",
       "                        <td id=\"T_059a6626_d265_11ea_9427_acde48001122row1_col7\" class=\"data row1 col7\" >0</td>\n",
       "                        <td id=\"T_059a6626_d265_11ea_9427_acde48001122row1_col8\" class=\"data row1 col8\" >0</td>\n",
       "                        <td id=\"T_059a6626_d265_11ea_9427_acde48001122row1_col9\" class=\"data row1 col9\" >0</td>\n",
       "                        <td id=\"T_059a6626_d265_11ea_9427_acde48001122row1_col10\" class=\"data row1 col10\" >0</td>\n",
       "                        <td id=\"T_059a6626_d265_11ea_9427_acde48001122row1_col11\" class=\"data row1 col11\" >0</td>\n",
       "                        <td id=\"T_059a6626_d265_11ea_9427_acde48001122row1_col12\" class=\"data row1 col12\" >0</td>\n",
       "                        <td id=\"T_059a6626_d265_11ea_9427_acde48001122row1_col13\" class=\"data row1 col13\" >0</td>\n",
       "                        <td id=\"T_059a6626_d265_11ea_9427_acde48001122row1_col14\" class=\"data row1 col14\" >0</td>\n",
       "                        <td id=\"T_059a6626_d265_11ea_9427_acde48001122row1_col15\" class=\"data row1 col15\" >0</td>\n",
       "            </tr>\n",
       "            <tr>\n",
       "                        <th id=\"T_059a6626_d265_11ea_9427_acde48001122level0_row2\" class=\"row_heading level0 row2\" >3</th>\n",
       "                        <td id=\"T_059a6626_d265_11ea_9427_acde48001122row2_col0\" class=\"data row2 col0\" >0</td>\n",
       "                        <td id=\"T_059a6626_d265_11ea_9427_acde48001122row2_col1\" class=\"data row2 col1\" >0</td>\n",
       "                        <td id=\"T_059a6626_d265_11ea_9427_acde48001122row2_col2\" class=\"data row2 col2\" >0</td>\n",
       "                        <td id=\"T_059a6626_d265_11ea_9427_acde48001122row2_col3\" class=\"data row2 col3\" >0</td>\n",
       "                        <td id=\"T_059a6626_d265_11ea_9427_acde48001122row2_col4\" class=\"data row2 col4\" >0</td>\n",
       "                        <td id=\"T_059a6626_d265_11ea_9427_acde48001122row2_col5\" class=\"data row2 col5\" >0</td>\n",
       "                        <td id=\"T_059a6626_d265_11ea_9427_acde48001122row2_col6\" class=\"data row2 col6\" >0</td>\n",
       "                        <td id=\"T_059a6626_d265_11ea_9427_acde48001122row2_col7\" class=\"data row2 col7\" >0</td>\n",
       "                        <td id=\"T_059a6626_d265_11ea_9427_acde48001122row2_col8\" class=\"data row2 col8\" >0</td>\n",
       "                        <td id=\"T_059a6626_d265_11ea_9427_acde48001122row2_col9\" class=\"data row2 col9\" >0</td>\n",
       "                        <td id=\"T_059a6626_d265_11ea_9427_acde48001122row2_col10\" class=\"data row2 col10\" >0</td>\n",
       "                        <td id=\"T_059a6626_d265_11ea_9427_acde48001122row2_col11\" class=\"data row2 col11\" >0</td>\n",
       "                        <td id=\"T_059a6626_d265_11ea_9427_acde48001122row2_col12\" class=\"data row2 col12\" >0</td>\n",
       "                        <td id=\"T_059a6626_d265_11ea_9427_acde48001122row2_col13\" class=\"data row2 col13\" >0</td>\n",
       "                        <td id=\"T_059a6626_d265_11ea_9427_acde48001122row2_col14\" class=\"data row2 col14\" >0</td>\n",
       "                        <td id=\"T_059a6626_d265_11ea_9427_acde48001122row2_col15\" class=\"data row2 col15\" >0</td>\n",
       "            </tr>\n",
       "            <tr>\n",
       "                        <th id=\"T_059a6626_d265_11ea_9427_acde48001122level0_row3\" class=\"row_heading level0 row3\" >4</th>\n",
       "                        <td id=\"T_059a6626_d265_11ea_9427_acde48001122row3_col0\" class=\"data row3 col0\" >0</td>\n",
       "                        <td id=\"T_059a6626_d265_11ea_9427_acde48001122row3_col1\" class=\"data row3 col1\" >0</td>\n",
       "                        <td id=\"T_059a6626_d265_11ea_9427_acde48001122row3_col2\" class=\"data row3 col2\" >0</td>\n",
       "                        <td id=\"T_059a6626_d265_11ea_9427_acde48001122row3_col3\" class=\"data row3 col3\" >0</td>\n",
       "                        <td id=\"T_059a6626_d265_11ea_9427_acde48001122row3_col4\" class=\"data row3 col4\" >0</td>\n",
       "                        <td id=\"T_059a6626_d265_11ea_9427_acde48001122row3_col5\" class=\"data row3 col5\" >51</td>\n",
       "                        <td id=\"T_059a6626_d265_11ea_9427_acde48001122row3_col6\" class=\"data row3 col6\" >159</td>\n",
       "                        <td id=\"T_059a6626_d265_11ea_9427_acde48001122row3_col7\" class=\"data row3 col7\" >253</td>\n",
       "                        <td id=\"T_059a6626_d265_11ea_9427_acde48001122row3_col8\" class=\"data row3 col8\" >159</td>\n",
       "                        <td id=\"T_059a6626_d265_11ea_9427_acde48001122row3_col9\" class=\"data row3 col9\" >50</td>\n",
       "                        <td id=\"T_059a6626_d265_11ea_9427_acde48001122row3_col10\" class=\"data row3 col10\" >0</td>\n",
       "                        <td id=\"T_059a6626_d265_11ea_9427_acde48001122row3_col11\" class=\"data row3 col11\" >0</td>\n",
       "                        <td id=\"T_059a6626_d265_11ea_9427_acde48001122row3_col12\" class=\"data row3 col12\" >0</td>\n",
       "                        <td id=\"T_059a6626_d265_11ea_9427_acde48001122row3_col13\" class=\"data row3 col13\" >0</td>\n",
       "                        <td id=\"T_059a6626_d265_11ea_9427_acde48001122row3_col14\" class=\"data row3 col14\" >0</td>\n",
       "                        <td id=\"T_059a6626_d265_11ea_9427_acde48001122row3_col15\" class=\"data row3 col15\" >0</td>\n",
       "            </tr>\n",
       "            <tr>\n",
       "                        <th id=\"T_059a6626_d265_11ea_9427_acde48001122level0_row4\" class=\"row_heading level0 row4\" >5</th>\n",
       "                        <td id=\"T_059a6626_d265_11ea_9427_acde48001122row4_col0\" class=\"data row4 col0\" >0</td>\n",
       "                        <td id=\"T_059a6626_d265_11ea_9427_acde48001122row4_col1\" class=\"data row4 col1\" >0</td>\n",
       "                        <td id=\"T_059a6626_d265_11ea_9427_acde48001122row4_col2\" class=\"data row4 col2\" >0</td>\n",
       "                        <td id=\"T_059a6626_d265_11ea_9427_acde48001122row4_col3\" class=\"data row4 col3\" >0</td>\n",
       "                        <td id=\"T_059a6626_d265_11ea_9427_acde48001122row4_col4\" class=\"data row4 col4\" >48</td>\n",
       "                        <td id=\"T_059a6626_d265_11ea_9427_acde48001122row4_col5\" class=\"data row4 col5\" >238</td>\n",
       "                        <td id=\"T_059a6626_d265_11ea_9427_acde48001122row4_col6\" class=\"data row4 col6\" >252</td>\n",
       "                        <td id=\"T_059a6626_d265_11ea_9427_acde48001122row4_col7\" class=\"data row4 col7\" >252</td>\n",
       "                        <td id=\"T_059a6626_d265_11ea_9427_acde48001122row4_col8\" class=\"data row4 col8\" >252</td>\n",
       "                        <td id=\"T_059a6626_d265_11ea_9427_acde48001122row4_col9\" class=\"data row4 col9\" >237</td>\n",
       "                        <td id=\"T_059a6626_d265_11ea_9427_acde48001122row4_col10\" class=\"data row4 col10\" >0</td>\n",
       "                        <td id=\"T_059a6626_d265_11ea_9427_acde48001122row4_col11\" class=\"data row4 col11\" >0</td>\n",
       "                        <td id=\"T_059a6626_d265_11ea_9427_acde48001122row4_col12\" class=\"data row4 col12\" >0</td>\n",
       "                        <td id=\"T_059a6626_d265_11ea_9427_acde48001122row4_col13\" class=\"data row4 col13\" >0</td>\n",
       "                        <td id=\"T_059a6626_d265_11ea_9427_acde48001122row4_col14\" class=\"data row4 col14\" >0</td>\n",
       "                        <td id=\"T_059a6626_d265_11ea_9427_acde48001122row4_col15\" class=\"data row4 col15\" >0</td>\n",
       "            </tr>\n",
       "            <tr>\n",
       "                        <th id=\"T_059a6626_d265_11ea_9427_acde48001122level0_row5\" class=\"row_heading level0 row5\" >6</th>\n",
       "                        <td id=\"T_059a6626_d265_11ea_9427_acde48001122row5_col0\" class=\"data row5 col0\" >0</td>\n",
       "                        <td id=\"T_059a6626_d265_11ea_9427_acde48001122row5_col1\" class=\"data row5 col1\" >0</td>\n",
       "                        <td id=\"T_059a6626_d265_11ea_9427_acde48001122row5_col2\" class=\"data row5 col2\" >0</td>\n",
       "                        <td id=\"T_059a6626_d265_11ea_9427_acde48001122row5_col3\" class=\"data row5 col3\" >54</td>\n",
       "                        <td id=\"T_059a6626_d265_11ea_9427_acde48001122row5_col4\" class=\"data row5 col4\" >227</td>\n",
       "                        <td id=\"T_059a6626_d265_11ea_9427_acde48001122row5_col5\" class=\"data row5 col5\" >253</td>\n",
       "                        <td id=\"T_059a6626_d265_11ea_9427_acde48001122row5_col6\" class=\"data row5 col6\" >252</td>\n",
       "                        <td id=\"T_059a6626_d265_11ea_9427_acde48001122row5_col7\" class=\"data row5 col7\" >239</td>\n",
       "                        <td id=\"T_059a6626_d265_11ea_9427_acde48001122row5_col8\" class=\"data row5 col8\" >233</td>\n",
       "                        <td id=\"T_059a6626_d265_11ea_9427_acde48001122row5_col9\" class=\"data row5 col9\" >252</td>\n",
       "                        <td id=\"T_059a6626_d265_11ea_9427_acde48001122row5_col10\" class=\"data row5 col10\" >57</td>\n",
       "                        <td id=\"T_059a6626_d265_11ea_9427_acde48001122row5_col11\" class=\"data row5 col11\" >6</td>\n",
       "                        <td id=\"T_059a6626_d265_11ea_9427_acde48001122row5_col12\" class=\"data row5 col12\" >0</td>\n",
       "                        <td id=\"T_059a6626_d265_11ea_9427_acde48001122row5_col13\" class=\"data row5 col13\" >0</td>\n",
       "                        <td id=\"T_059a6626_d265_11ea_9427_acde48001122row5_col14\" class=\"data row5 col14\" >0</td>\n",
       "                        <td id=\"T_059a6626_d265_11ea_9427_acde48001122row5_col15\" class=\"data row5 col15\" >0</td>\n",
       "            </tr>\n",
       "            <tr>\n",
       "                        <th id=\"T_059a6626_d265_11ea_9427_acde48001122level0_row6\" class=\"row_heading level0 row6\" >7</th>\n",
       "                        <td id=\"T_059a6626_d265_11ea_9427_acde48001122row6_col0\" class=\"data row6 col0\" >0</td>\n",
       "                        <td id=\"T_059a6626_d265_11ea_9427_acde48001122row6_col1\" class=\"data row6 col1\" >10</td>\n",
       "                        <td id=\"T_059a6626_d265_11ea_9427_acde48001122row6_col2\" class=\"data row6 col2\" >60</td>\n",
       "                        <td id=\"T_059a6626_d265_11ea_9427_acde48001122row6_col3\" class=\"data row6 col3\" >224</td>\n",
       "                        <td id=\"T_059a6626_d265_11ea_9427_acde48001122row6_col4\" class=\"data row6 col4\" >252</td>\n",
       "                        <td id=\"T_059a6626_d265_11ea_9427_acde48001122row6_col5\" class=\"data row6 col5\" >253</td>\n",
       "                        <td id=\"T_059a6626_d265_11ea_9427_acde48001122row6_col6\" class=\"data row6 col6\" >252</td>\n",
       "                        <td id=\"T_059a6626_d265_11ea_9427_acde48001122row6_col7\" class=\"data row6 col7\" >202</td>\n",
       "                        <td id=\"T_059a6626_d265_11ea_9427_acde48001122row6_col8\" class=\"data row6 col8\" >84</td>\n",
       "                        <td id=\"T_059a6626_d265_11ea_9427_acde48001122row6_col9\" class=\"data row6 col9\" >252</td>\n",
       "                        <td id=\"T_059a6626_d265_11ea_9427_acde48001122row6_col10\" class=\"data row6 col10\" >253</td>\n",
       "                        <td id=\"T_059a6626_d265_11ea_9427_acde48001122row6_col11\" class=\"data row6 col11\" >122</td>\n",
       "                        <td id=\"T_059a6626_d265_11ea_9427_acde48001122row6_col12\" class=\"data row6 col12\" >0</td>\n",
       "                        <td id=\"T_059a6626_d265_11ea_9427_acde48001122row6_col13\" class=\"data row6 col13\" >0</td>\n",
       "                        <td id=\"T_059a6626_d265_11ea_9427_acde48001122row6_col14\" class=\"data row6 col14\" >0</td>\n",
       "                        <td id=\"T_059a6626_d265_11ea_9427_acde48001122row6_col15\" class=\"data row6 col15\" >0</td>\n",
       "            </tr>\n",
       "    </tbody></table>"
      ],
      "text/plain": [
       "<pandas.io.formats.style.Styler at 0x11d7388d0>"
      ]
     },
     "execution_count": 15,
     "metadata": {},
     "output_type": "execute_result"
    }
   ],
   "source": [
    "import pandas as pd\n",
    "second_image_df = pd.DataFrame(second_image)\n",
    "df_select = second_image_df.loc[1:7,  10:25].astype('int')\n",
    "df_select.style.set_properties(**{'font-size':'6pt'}).background_gradient('Greys')"
   ]
  },
  {
   "cell_type": "markdown",
   "metadata": {},
   "source": [
    "Now let's initialize a few different kernels."
   ]
  },
  {
   "cell_type": "code",
   "execution_count": 16,
   "metadata": {},
   "outputs": [],
   "source": [
    "import numpy as np\n",
    "kernel_1 = np.array([[-1,-1,-1],\n",
    "       [ 0, 0, 0],\n",
    "       [ 1, 1, 1]])\n",
    "\n",
    "kernel_2 = np.array([[0, 0, 0],\n",
    "       [ 0,  1,  1],\n",
    "       [ 0,  1,  -1]])\n",
    "\n",
    "kernel_3 = np.array([[-1,0,1],\n",
    "       [ -1, 0, 1],\n",
    "       [ -1, 0, 1]])\n",
    "\n",
    "kernels = [kernel_1, kernel_2, kernel_3]"
   ]
  },
  {
   "cell_type": "code",
   "execution_count": 17,
   "metadata": {},
   "outputs": [
    {
     "data": {
      "text/html": [
       "<div>\n",
       "<style scoped>\n",
       "    .dataframe tbody tr th:only-of-type {\n",
       "        vertical-align: middle;\n",
       "    }\n",
       "\n",
       "    .dataframe tbody tr th {\n",
       "        vertical-align: top;\n",
       "    }\n",
       "\n",
       "    .dataframe thead th {\n",
       "        text-align: right;\n",
       "    }\n",
       "</style>\n",
       "<table border=\"1\" class=\"dataframe\">\n",
       "  <thead>\n",
       "    <tr style=\"text-align: right;\">\n",
       "      <th></th>\n",
       "      <th>20</th>\n",
       "      <th>21</th>\n",
       "      <th>22</th>\n",
       "    </tr>\n",
       "  </thead>\n",
       "  <tbody>\n",
       "    <tr>\n",
       "      <th>10</th>\n",
       "      <td>253.0</td>\n",
       "      <td>243.0</td>\n",
       "      <td>50.0</td>\n",
       "    </tr>\n",
       "    <tr>\n",
       "      <th>11</th>\n",
       "      <td>253.0</td>\n",
       "      <td>252.0</td>\n",
       "      <td>165.0</td>\n",
       "    </tr>\n",
       "    <tr>\n",
       "      <th>12</th>\n",
       "      <td>253.0</td>\n",
       "      <td>252.0</td>\n",
       "      <td>195.0</td>\n",
       "    </tr>\n",
       "  </tbody>\n",
       "</table>\n",
       "</div>"
      ],
      "text/plain": [
       "       20     21     22\n",
       "10  253.0  243.0   50.0\n",
       "11  253.0  252.0  165.0\n",
       "12  253.0  252.0  195.0"
      ]
     },
     "execution_count": 17,
     "metadata": {},
     "output_type": "execute_result"
    }
   ],
   "source": [
    "edge_region = second_image_df.iloc[10:13, 20:23]\n",
    "edge_region"
   ]
  },
  {
   "cell_type": "markdown",
   "metadata": {},
   "source": [
    "Write the method called `apply_kernel` applies a kernel to a region."
   ]
  },
  {
   "cell_type": "code",
   "execution_count": 1,
   "metadata": {},
   "outputs": [],
   "source": [
    "def apply_kernel(kernel, region):\n",
    "    pass"
   ]
  },
  {
   "cell_type": "markdown",
   "metadata": {},
   "source": [
    "Let's apply the first kernel to the `edge_region` selected above."
   ]
  },
  {
   "cell_type": "code",
   "execution_count": null,
   "metadata": {},
   "outputs": [],
   "source": [
    "apply_kernel(kernels[0], edge_region)\n",
    "\n",
    "# 154.0"
   ]
  },
  {
   "cell_type": "markdown",
   "metadata": {},
   "source": [
    "Kernels are often referred to as `filters`.  Applying a kernel to an image is almost like applying a different lens or instagram filter to an image."
   ]
  },
  {
   "cell_type": "markdown",
   "metadata": {},
   "source": [
    "> Here is a method called `apply_kernel_to_image` that moves through a grid of $x$ and $y$ coordinates and repeatedly applies the image. "
   ]
  },
  {
   "cell_type": "code",
   "execution_count": 20,
   "metadata": {},
   "outputs": [],
   "source": [
    "def apply_kernel_to_image(kernel, image_df):\n",
    "    coords = [x_coord for x_coord in range(image_df.shape[0])][1:-1]\n",
    "    combos = [[(x_coord, y_coord) for x_coord in coords] for y_coord in coords]\n",
    "    return np.array([apply_kernel(kernel, image_df.loc[x-1:x+1, y-1:y+1])\n",
    "           for row in combos for x,y in row])"
   ]
  },
  {
   "cell_type": "markdown",
   "metadata": {},
   "source": [
    "Now we have a list of kernels above in the `kernels` variable."
   ]
  },
  {
   "cell_type": "code",
   "execution_count": 21,
   "metadata": {},
   "outputs": [
    {
     "data": {
      "text/plain": [
       "[array([[-1, -1, -1],\n",
       "        [ 0,  0,  0],\n",
       "        [ 1,  1,  1]]),\n",
       " array([[ 0,  0,  0],\n",
       "        [ 0,  1,  1],\n",
       "        [ 0,  1, -1]]),\n",
       " array([[-1,  0,  1],\n",
       "        [-1,  0,  1],\n",
       "        [-1,  0,  1]])]"
      ]
     },
     "execution_count": 21,
     "metadata": {},
     "output_type": "execute_result"
    }
   ],
   "source": [
    "kernels"
   ]
  },
  {
   "cell_type": "markdown",
   "metadata": {},
   "source": [
    "Apply the kernels to the image and see how it highlights different features of the image."
   ]
  },
  {
   "cell_type": "code",
   "execution_count": 22,
   "metadata": {},
   "outputs": [],
   "source": [
    "first_activation_map = apply_kernel_to_image(kernels[0], second_image_df)"
   ]
  },
  {
   "cell_type": "markdown",
   "metadata": {},
   "source": [
    "Then we'll display the first activation map below."
   ]
  },
  {
   "cell_type": "code",
   "execution_count": 23,
   "metadata": {},
   "outputs": [
    {
     "data": {
      "text/plain": [
       "<matplotlib.image.AxesImage at 0x126a123d0>"
      ]
     },
     "execution_count": 23,
     "metadata": {},
     "output_type": "execute_result"
    },
    {
     "data": {
      "image/png": "[encoded data removed]",
      "text/plain": [
       "<Figure size 432x288 with 1 Axes>"
      ]
     },
     "metadata": {
      "needs_background": "light"
     },
     "output_type": "display_data"
    }
   ],
   "source": [
    "from matplotlib.pyplot import imshow\n",
    "imshow(first_activation_map.reshape(26, 26))"
   ]
  },
  {
   "cell_type": "code",
   "execution_count": 3,
   "metadata": {},
   "outputs": [],
   "source": [
    "third_activation_map = None # create activation map with third kernel"
   ]
  },
  {
   "cell_type": "markdown",
   "metadata": {},
   "source": [
    "> Then display the activation map (reshape to 26x26 matrix)."
   ]
  },
  {
   "cell_type": "code",
   "execution_count": 4,
   "metadata": {},
   "outputs": [],
   "source": [
    "# imshow()"
   ]
  },
  {
   "cell_type": "markdown",
   "metadata": {},
   "source": [
    "So we can see that our different kernels extract different features from the image.  The last kernel appears to focus on the top and bottom curves of our image.  The first kernel focuses on the left and right curves above."
   ]
  },
  {
   "cell_type": "markdown",
   "metadata": {},
   "source": [
    "### Convolutional Layers in Pytorch"
   ]
  },
  {
   "cell_type": "markdown",
   "metadata": {},
   "source": [
    "Now let's explore convolutional layers in Pytorch.  "
   ]
  },
  {
   "cell_type": "markdown",
   "metadata": {},
   "source": [
    "> We'l initialize a convolutional layer."
   ]
  },
  {
   "cell_type": "code",
   "execution_count": 28,
   "metadata": {},
   "outputs": [],
   "source": [
    "import torch.nn as nn"
   ]
  },
  {
   "cell_type": "code",
   "execution_count": 78,
   "metadata": {},
   "outputs": [],
   "source": [
    "conv_1 =  nn.Conv2d(in_channels = 1, out_channels = 4, kernel_size = 3)"
   ]
  },
  {
   "cell_type": "markdown",
   "metadata": {},
   "source": [
    "Now to see the kernels, we'll first need to pass through our data.  And to do that, we need to convert our numpy array to tensors."
   ]
  },
  {
   "cell_type": "code",
   "execution_count": 79,
   "metadata": {},
   "outputs": [],
   "source": [
    "from torch import tensor\n",
    "X_tensor = tensor(X)\n",
    "\n",
    "# tensor([[0., 0., 0.,  ..., 0., 0., 0.],\n",
    "#         [0., 0., 0.,  ..., 0., 0., 0.],\n",
    "#         [0., 0., 0.,  ..., 0., 0., 0.],\n",
    "#         ...,\n",
    "#         [0., 0., 0.,  ..., 0., 0., 0.],\n",
    "#         [0., 0., 0.,  ..., 0., 0., 0.],\n",
    "#         [0., 0., 0.,  ..., 0., 0., 0.]], dtype=torch.float64)"
   ]
  },
  {
   "cell_type": "markdown",
   "metadata": {},
   "source": [
    "> And then reshape the data so that we have batches of size 100, with 28x28 images, and add a dimension for a channel."
   ]
  },
  {
   "cell_type": "code",
   "execution_count": 6,
   "metadata": {},
   "outputs": [],
   "source": [
    "X_reshaped = None\n",
    "\n",
    "# X_reshaped.shape\n",
    "\n",
    "# torch.Size([100, 1, 28, 28])"
   ]
  },
  {
   "cell_type": "markdown",
   "metadata": {},
   "source": [
    "Select the first batch of data."
   ]
  },
  {
   "cell_type": "code",
   "execution_count": 81,
   "metadata": {},
   "outputs": [
    {
     "data": {
      "text/plain": [
       "torch.Size([100, 1, 28, 28])"
      ]
     },
     "execution_count": 81,
     "metadata": {},
     "output_type": "execute_result"
    }
   ],
   "source": [
    "first_batch = None\n"
   ]
  },
  {
   "cell_type": "code",
   "execution_count": null,
   "metadata": {},
   "outputs": [],
   "source": [
    "first_batch.shape\n",
    "\n",
    "# torch.Size([100, 1, 28, 28])"
   ]
  },
  {
   "cell_type": "code",
   "execution_count": 82,
   "metadata": {},
   "outputs": [],
   "source": [
    "outputs = conv_1(first_batch.float())"
   ]
  },
  {
   "cell_type": "markdown",
   "metadata": {},
   "source": [
    "Now that we passed through the data, we can take a look at the kernels used by our layer."
   ]
  },
  {
   "cell_type": "code",
   "execution_count": 83,
   "metadata": {},
   "outputs": [
    {
     "data": {
      "text/plain": [
       "Parameter containing:\n",
       "tensor([[[[ 0.1286, -0.1091,  0.2052],\n",
       "          [ 0.1658,  0.1213,  0.1243],\n",
       "          [-0.0301, -0.2128,  0.0603]]],\n",
       "\n",
       "\n",
       "        [[[-0.0545, -0.0802,  0.0353],\n",
       "          [-0.1907, -0.0049,  0.0635],\n",
       "          [ 0.0844, -0.0958, -0.0293]]],\n",
       "\n",
       "\n",
       "        [[[-0.1655, -0.0680,  0.2082],\n",
       "          [-0.2715,  0.0093, -0.1318],\n",
       "          [ 0.0558, -0.2993,  0.2402]]],\n",
       "\n",
       "\n",
       "        [[[ 0.2456,  0.1903, -0.2010],\n",
       "          [-0.0356,  0.2674, -0.0298],\n",
       "          [-0.1687,  0.1983, -0.1294]]]], requires_grad=True)"
      ]
     },
     "execution_count": 83,
     "metadata": {},
     "output_type": "execute_result"
    }
   ],
   "source": [
    "conv_1.weight"
   ]
  },
  {
   "cell_type": "markdown",
   "metadata": {},
   "source": [
    "As we can see, in this convolutional layer, we have four kernels each of size 3x3.  And we can also see that these kernels were simply initialized with random values.  If we place our convolutional into a neural network, the values of the kernel will be updated to minimize the cost function through training.\n",
    "\n",
    "Now let's take a look at the output that we produced by passing a batch of images through the kernel.  We'll see that for each observation, we have four activation maps -- one for each kernel."
   ]
  },
  {
   "cell_type": "code",
   "execution_count": 85,
   "metadata": {},
   "outputs": [
    {
     "data": {
      "text/plain": [
       "torch.Size([100, 4, 26, 26])"
      ]
     },
     "execution_count": 85,
     "metadata": {},
     "output_type": "execute_result"
    }
   ],
   "source": [
    "outputs.shape\n",
    "\n",
    "# torch.Size([100, 4, 26, 26])"
   ]
  },
  {
   "cell_type": "code",
   "execution_count": 87,
   "metadata": {},
   "outputs": [
    {
     "data": {
      "text/plain": [
       "torch.Size([26, 26])"
      ]
     },
     "execution_count": 87,
     "metadata": {},
     "output_type": "execute_result"
    }
   ],
   "source": [
    "outputs[0][0].shape"
   ]
  },
  {
   "cell_type": "markdown",
   "metadata": {},
   "source": [
    "And as we know, the purpose of these activation maps is to represent features of our images."
   ]
  },
  {
   "cell_type": "markdown",
   "metadata": {},
   "source": [
    "### Summary"
   ]
  },
  {
   "cell_type": "markdown",
   "metadata": {},
   "source": [
    "In this lesson, we explored working with kernels, first in numpy and then in Pytorch.  As we saw, kernels are a square matrix that are applied to different regions of our image through entrywise multiplication followed by summing the entries.\n",
    "\n",
    "Then, we explored how kernels are initialized in Pytorch.  We saw that our kernels are initialized with random values, which are then modified through training.  And that passing a batch of images through convolutional layer results ina. different activation map for each image, for each kernel."
   ]
  }
 ],
 "metadata": {
  "kernelspec": {
   "display_name": "Python 3",
   "language": "python",
   "name": "python3"
  },
  "language_info": {
   "codemirror_mode": {
    "name": "ipython",
    "version": 3
   },
   "file_extension": ".py",
   "mimetype": "text/x-python",
   "name": "python",
   "nbconvert_exporter": "python",
   "pygments_lexer": "ipython3",
   "version": "3.7.4"
  }
 },
 "nbformat": 4,
 "nbformat_minor": 4
}
